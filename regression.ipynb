{
 "cells": [
  {
   "cell_type": "code",
   "execution_count": 95,
   "metadata": {},
   "outputs": [],
   "source": [
    "import pandas as pd"
   ]
  },
  {
   "cell_type": "code",
   "execution_count": 96,
   "metadata": {},
   "outputs": [],
   "source": [
    "data = pd.read_csv('features.csv')\n",
    "del data['Unnamed: 0']"
   ]
  },
  {
   "cell_type": "markdown",
   "metadata": {},
   "source": [
    "## Split data into features and targets"
   ]
  },
  {
   "cell_type": "code",
   "execution_count": 97,
   "metadata": {},
   "outputs": [],
   "source": [
    "targets = data['Peak Position']\n",
    "features = data\n",
    "del features['Peak Position']"
   ]
  },
  {
   "cell_type": "code",
   "execution_count": 98,
   "metadata": {},
   "outputs": [
    {
     "data": {
      "text/html": [
       "<div>\n",
       "<style scoped>\n",
       "    .dataframe tbody tr th:only-of-type {\n",
       "        vertical-align: middle;\n",
       "    }\n",
       "\n",
       "    .dataframe tbody tr th {\n",
       "        vertical-align: top;\n",
       "    }\n",
       "\n",
       "    .dataframe thead th {\n",
       "        text-align: right;\n",
       "    }\n",
       "</style>\n",
       "<table border=\"1\" class=\"dataframe\">\n",
       "  <thead>\n",
       "    <tr style=\"text-align: right;\">\n",
       "      <th></th>\n",
       "      <th>Weeks on Chart</th>\n",
       "      <th>spotify_track_duration_ms</th>\n",
       "      <th>danceability</th>\n",
       "      <th>energy</th>\n",
       "      <th>key</th>\n",
       "      <th>loudness</th>\n",
       "      <th>mode</th>\n",
       "      <th>speechiness</th>\n",
       "      <th>acousticness</th>\n",
       "      <th>instrumentalness</th>\n",
       "      <th>liveness</th>\n",
       "      <th>valence</th>\n",
       "      <th>tempo</th>\n",
       "      <th>time_signature</th>\n",
       "      <th>explicit</th>\n",
       "      <th>YearID</th>\n",
       "    </tr>\n",
       "  </thead>\n",
       "  <tbody>\n",
       "    <tr>\n",
       "      <th>0</th>\n",
       "      <td>1.0</td>\n",
       "      <td>226706.0</td>\n",
       "      <td>0.440</td>\n",
       "      <td>0.976</td>\n",
       "      <td>10.0</td>\n",
       "      <td>-3.170</td>\n",
       "      <td>1.0</td>\n",
       "      <td>0.1410</td>\n",
       "      <td>0.00177</td>\n",
       "      <td>0.000003</td>\n",
       "      <td>0.1600</td>\n",
       "      <td>0.412</td>\n",
       "      <td>150.005</td>\n",
       "      <td>4.0</td>\n",
       "      <td>0</td>\n",
       "      <td>1958</td>\n",
       "    </tr>\n",
       "    <tr>\n",
       "      <th>1</th>\n",
       "      <td>1.0</td>\n",
       "      <td>222333.0</td>\n",
       "      <td>0.646</td>\n",
       "      <td>0.527</td>\n",
       "      <td>11.0</td>\n",
       "      <td>-7.356</td>\n",
       "      <td>1.0</td>\n",
       "      <td>0.0478</td>\n",
       "      <td>0.01680</td>\n",
       "      <td>0.000000</td>\n",
       "      <td>0.2040</td>\n",
       "      <td>0.287</td>\n",
       "      <td>68.501</td>\n",
       "      <td>4.0</td>\n",
       "      <td>0</td>\n",
       "      <td>1958</td>\n",
       "    </tr>\n",
       "    <tr>\n",
       "      <th>2</th>\n",
       "      <td>1.0</td>\n",
       "      <td>141426.0</td>\n",
       "      <td>0.511</td>\n",
       "      <td>0.236</td>\n",
       "      <td>0.0</td>\n",
       "      <td>-14.496</td>\n",
       "      <td>1.0</td>\n",
       "      <td>0.0430</td>\n",
       "      <td>0.67000</td>\n",
       "      <td>0.000000</td>\n",
       "      <td>0.0953</td>\n",
       "      <td>0.196</td>\n",
       "      <td>141.222</td>\n",
       "      <td>4.0</td>\n",
       "      <td>0</td>\n",
       "      <td>1958</td>\n",
       "    </tr>\n",
       "    <tr>\n",
       "      <th>3</th>\n",
       "      <td>1.0</td>\n",
       "      <td>230320.0</td>\n",
       "      <td>0.565</td>\n",
       "      <td>0.245</td>\n",
       "      <td>5.0</td>\n",
       "      <td>-9.132</td>\n",
       "      <td>1.0</td>\n",
       "      <td>0.0262</td>\n",
       "      <td>0.78100</td>\n",
       "      <td>0.000000</td>\n",
       "      <td>0.0998</td>\n",
       "      <td>0.307</td>\n",
       "      <td>75.055</td>\n",
       "      <td>4.0</td>\n",
       "      <td>0</td>\n",
       "      <td>1958</td>\n",
       "    </tr>\n",
       "    <tr>\n",
       "      <th>4</th>\n",
       "      <td>1.0</td>\n",
       "      <td>191266.0</td>\n",
       "      <td>0.738</td>\n",
       "      <td>0.768</td>\n",
       "      <td>11.0</td>\n",
       "      <td>-7.045</td>\n",
       "      <td>0.0</td>\n",
       "      <td>0.0348</td>\n",
       "      <td>0.38100</td>\n",
       "      <td>0.145000</td>\n",
       "      <td>0.1000</td>\n",
       "      <td>0.603</td>\n",
       "      <td>120.013</td>\n",
       "      <td>4.0</td>\n",
       "      <td>0</td>\n",
       "      <td>1958</td>\n",
       "    </tr>\n",
       "    <tr>\n",
       "      <th>...</th>\n",
       "      <td>...</td>\n",
       "      <td>...</td>\n",
       "      <td>...</td>\n",
       "      <td>...</td>\n",
       "      <td>...</td>\n",
       "      <td>...</td>\n",
       "      <td>...</td>\n",
       "      <td>...</td>\n",
       "      <td>...</td>\n",
       "      <td>...</td>\n",
       "      <td>...</td>\n",
       "      <td>...</td>\n",
       "      <td>...</td>\n",
       "      <td>...</td>\n",
       "      <td>...</td>\n",
       "      <td>...</td>\n",
       "    </tr>\n",
       "    <tr>\n",
       "      <th>19609</th>\n",
       "      <td>5.0</td>\n",
       "      <td>183800.0</td>\n",
       "      <td>0.617</td>\n",
       "      <td>0.488</td>\n",
       "      <td>7.0</td>\n",
       "      <td>-9.567</td>\n",
       "      <td>0.0</td>\n",
       "      <td>0.0350</td>\n",
       "      <td>0.26600</td>\n",
       "      <td>0.000000</td>\n",
       "      <td>0.1100</td>\n",
       "      <td>0.685</td>\n",
       "      <td>136.236</td>\n",
       "      <td>4.0</td>\n",
       "      <td>0</td>\n",
       "      <td>2019</td>\n",
       "    </tr>\n",
       "    <tr>\n",
       "      <th>19610</th>\n",
       "      <td>14.0</td>\n",
       "      <td>179613.0</td>\n",
       "      <td>0.665</td>\n",
       "      <td>0.498</td>\n",
       "      <td>5.0</td>\n",
       "      <td>-8.185</td>\n",
       "      <td>1.0</td>\n",
       "      <td>0.0831</td>\n",
       "      <td>0.22800</td>\n",
       "      <td>0.000000</td>\n",
       "      <td>0.0757</td>\n",
       "      <td>0.127</td>\n",
       "      <td>81.967</td>\n",
       "      <td>4.0</td>\n",
       "      <td>1</td>\n",
       "      <td>2019</td>\n",
       "    </tr>\n",
       "    <tr>\n",
       "      <th>19611</th>\n",
       "      <td>34.0</td>\n",
       "      <td>272080.0</td>\n",
       "      <td>0.448</td>\n",
       "      <td>0.420</td>\n",
       "      <td>8.0</td>\n",
       "      <td>-9.948</td>\n",
       "      <td>1.0</td>\n",
       "      <td>0.0797</td>\n",
       "      <td>0.52600</td>\n",
       "      <td>0.000550</td>\n",
       "      <td>0.2230</td>\n",
       "      <td>0.325</td>\n",
       "      <td>183.337</td>\n",
       "      <td>3.0</td>\n",
       "      <td>0</td>\n",
       "      <td>2019</td>\n",
       "    </tr>\n",
       "    <tr>\n",
       "      <th>19612</th>\n",
       "      <td>8.0</td>\n",
       "      <td>191066.0</td>\n",
       "      <td>0.685</td>\n",
       "      <td>0.718</td>\n",
       "      <td>0.0</td>\n",
       "      <td>-7.724</td>\n",
       "      <td>1.0</td>\n",
       "      <td>0.0521</td>\n",
       "      <td>0.12200</td>\n",
       "      <td>0.000000</td>\n",
       "      <td>0.0556</td>\n",
       "      <td>0.958</td>\n",
       "      <td>131.463</td>\n",
       "      <td>4.0</td>\n",
       "      <td>0</td>\n",
       "      <td>2019</td>\n",
       "    </tr>\n",
       "    <tr>\n",
       "      <th>19613</th>\n",
       "      <td>16.0</td>\n",
       "      <td>135066.0</td>\n",
       "      <td>0.572</td>\n",
       "      <td>0.342</td>\n",
       "      <td>7.0</td>\n",
       "      <td>-11.330</td>\n",
       "      <td>1.0</td>\n",
       "      <td>0.0432</td>\n",
       "      <td>0.65800</td>\n",
       "      <td>0.000000</td>\n",
       "      <td>0.0480</td>\n",
       "      <td>0.755</td>\n",
       "      <td>117.995</td>\n",
       "      <td>4.0</td>\n",
       "      <td>0</td>\n",
       "      <td>2019</td>\n",
       "    </tr>\n",
       "  </tbody>\n",
       "</table>\n",
       "<p>19614 rows × 16 columns</p>\n",
       "</div>"
      ],
      "text/plain": [
       "       Weeks on Chart  spotify_track_duration_ms  danceability  energy   key  \\\n",
       "0                 1.0                   226706.0         0.440   0.976  10.0   \n",
       "1                 1.0                   222333.0         0.646   0.527  11.0   \n",
       "2                 1.0                   141426.0         0.511   0.236   0.0   \n",
       "3                 1.0                   230320.0         0.565   0.245   5.0   \n",
       "4                 1.0                   191266.0         0.738   0.768  11.0   \n",
       "...               ...                        ...           ...     ...   ...   \n",
       "19609             5.0                   183800.0         0.617   0.488   7.0   \n",
       "19610            14.0                   179613.0         0.665   0.498   5.0   \n",
       "19611            34.0                   272080.0         0.448   0.420   8.0   \n",
       "19612             8.0                   191066.0         0.685   0.718   0.0   \n",
       "19613            16.0                   135066.0         0.572   0.342   7.0   \n",
       "\n",
       "       loudness  mode  speechiness  acousticness  instrumentalness  liveness  \\\n",
       "0        -3.170   1.0       0.1410       0.00177          0.000003    0.1600   \n",
       "1        -7.356   1.0       0.0478       0.01680          0.000000    0.2040   \n",
       "2       -14.496   1.0       0.0430       0.67000          0.000000    0.0953   \n",
       "3        -9.132   1.0       0.0262       0.78100          0.000000    0.0998   \n",
       "4        -7.045   0.0       0.0348       0.38100          0.145000    0.1000   \n",
       "...         ...   ...          ...           ...               ...       ...   \n",
       "19609    -9.567   0.0       0.0350       0.26600          0.000000    0.1100   \n",
       "19610    -8.185   1.0       0.0831       0.22800          0.000000    0.0757   \n",
       "19611    -9.948   1.0       0.0797       0.52600          0.000550    0.2230   \n",
       "19612    -7.724   1.0       0.0521       0.12200          0.000000    0.0556   \n",
       "19613   -11.330   1.0       0.0432       0.65800          0.000000    0.0480   \n",
       "\n",
       "       valence    tempo  time_signature  explicit  YearID  \n",
       "0        0.412  150.005             4.0         0    1958  \n",
       "1        0.287   68.501             4.0         0    1958  \n",
       "2        0.196  141.222             4.0         0    1958  \n",
       "3        0.307   75.055             4.0         0    1958  \n",
       "4        0.603  120.013             4.0         0    1958  \n",
       "...        ...      ...             ...       ...     ...  \n",
       "19609    0.685  136.236             4.0         0    2019  \n",
       "19610    0.127   81.967             4.0         1    2019  \n",
       "19611    0.325  183.337             3.0         0    2019  \n",
       "19612    0.958  131.463             4.0         0    2019  \n",
       "19613    0.755  117.995             4.0         0    2019  \n",
       "\n",
       "[19614 rows x 16 columns]"
      ]
     },
     "execution_count": 98,
     "metadata": {},
     "output_type": "execute_result"
    }
   ],
   "source": [
    "features"
   ]
  },
  {
   "cell_type": "markdown",
   "metadata": {},
   "source": [
    "## Scale features and targets"
   ]
  },
  {
   "cell_type": "code",
   "execution_count": 99,
   "metadata": {},
   "outputs": [],
   "source": [
    "# for feature in features:\n",
    "#     features[feature] /= max(abs(features[feature]))\n",
    "from sklearn.preprocessing import scale\n",
    "features = scale(features)\n",
    "targets = scale(targets)"
   ]
  },
  {
   "cell_type": "markdown",
   "metadata": {},
   "source": [
    "## Test train split"
   ]
  },
  {
   "cell_type": "code",
   "execution_count": 100,
   "metadata": {},
   "outputs": [],
   "source": [
    "from sklearn.model_selection import train_test_split\n",
    "X_train, X_test, y_train, y_test = train_test_split(features, targets, test_size=0.33, random_state=42)"
   ]
  },
  {
   "cell_type": "markdown",
   "metadata": {},
   "source": [
    "## Create and train model"
   ]
  },
  {
   "cell_type": "code",
   "execution_count": 101,
   "metadata": {},
   "outputs": [],
   "source": [
    "from sklearn.linear_model import LinearRegression"
   ]
  },
  {
   "cell_type": "code",
   "execution_count": 102,
   "metadata": {},
   "outputs": [],
   "source": [
    "model = LinearRegression()\n",
    "model.fit(X_train, y_train)\n",
    "y_pred = model.predict(X_test)"
   ]
  },
  {
   "cell_type": "markdown",
   "metadata": {},
   "source": [
    "## Evaluate"
   ]
  },
  {
   "cell_type": "code",
   "execution_count": 103,
   "metadata": {},
   "outputs": [],
   "source": [
    "from sklearn import metrics"
   ]
  },
  {
   "cell_type": "code",
   "execution_count": 104,
   "metadata": {},
   "outputs": [
    {
     "name": "stdout",
     "output_type": "stream",
     "text": [
      "mse: 0.4449599472984792, mae: 0.543198400006274, r2: 0.5548219644813057\n"
     ]
    }
   ],
   "source": [
    "mse = metrics.mean_squared_error(y_test, y_pred)\n",
    "mae = metrics.mean_absolute_error(y_test, y_pred)\n",
    "r2 = metrics.r2_score(y_test, y_pred)\n",
    "print(f'mse: {mse}, mae: {mae}, r2: {r2}')"
   ]
  },
  {
   "cell_type": "markdown",
   "metadata": {},
   "source": [
    "## Try more models"
   ]
  },
  {
   "cell_type": "code",
   "execution_count": 130,
   "metadata": {},
   "outputs": [],
   "source": [
    "from sklearn.linear_model import Ridge\n",
    "from sklearn.linear_model import Lasso\n",
    "from sklearn.linear_model import ElasticNet\n",
    "from sklearn.feature_selection import SelectFromModel"
   ]
  },
  {
   "cell_type": "code",
   "execution_count": 131,
   "metadata": {},
   "outputs": [],
   "source": [
    "models = [LinearRegression(),\n",
    "          Ridge(),\n",
    "          Lasso(),\n",
    "          ElasticNet()]"
   ]
  },
  {
   "cell_type": "code",
   "execution_count": 132,
   "metadata": {},
   "outputs": [],
   "source": [
    "selectors = [SelectFromModel(model).fit(X_train, y_train) for model in models]"
   ]
  },
  {
   "cell_type": "code",
   "execution_count": 133,
   "metadata": {},
   "outputs": [
    {
     "name": "stdout",
     "output_type": "stream",
     "text": [
      "0.5548219644813057\n",
      "0.5548200328237567\n",
      "-0.0005709357379117819\n",
      "0.17105005423008635\n"
     ]
    }
   ],
   "source": [
    "for model in models:\n",
    "    model.fit(X_train, y_train)\n",
    "    print(metrics.r2_score(y_test, model.predict(X_test)))"
   ]
  },
  {
   "cell_type": "code",
   "execution_count": null,
   "metadata": {},
   "outputs": [],
   "source": []
  }
 ],
 "metadata": {
  "kernelspec": {
   "display_name": "Python 3",
   "language": "python",
   "name": "python3"
  },
  "language_info": {
   "codemirror_mode": {
    "name": "ipython",
    "version": 3
   },
   "file_extension": ".py",
   "mimetype": "text/x-python",
   "name": "python",
   "nbconvert_exporter": "python",
   "pygments_lexer": "ipython3",
   "version": "3.8.3"
  }
 },
 "nbformat": 4,
 "nbformat_minor": 4
}
