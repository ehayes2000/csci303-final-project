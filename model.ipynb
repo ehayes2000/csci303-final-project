{
 "cells": [
  {
   "cell_type": "code",
   "execution_count": 1,
   "metadata": {},
   "outputs": [],
   "source": [
    "import numpy as np\n",
    "import pandas as pd\n",
    "from sklearn.neighbors import KNeighborsRegressor \n",
    "from sklearn.decomposition import PCA\n",
    "from sklearn.model_selection import train_test_split\n",
    "import matplotlib.pyplot as plt"
   ]
  },
  {
   "cell_type": "code",
   "execution_count": 2,
   "metadata": {},
   "outputs": [],
   "source": [
    "billboards = pd.read_csv('data/BIllboards.csv')\n",
    "billboards_features = pd.read_csv('data/billboard_features.csv')"
   ]
  },
  {
   "cell_type": "code",
   "execution_count": 3,
   "metadata": {},
   "outputs": [],
   "source": [
    "billboards = billboards.sort_values(by=['Weeks on Chart'],ascending=False)\n",
    "billboards = billboards.drop_duplicates(subset=['Song'])\n",
    "billboards.sort_values(by=['Song'])\n",
    "billboards_features = billboards_features.sort_values(['Song'])\n",
    "billboards = billboards.sort_values(['Song'])"
   ]
  },
  {
   "cell_type": "code",
   "execution_count": 4,
   "metadata": {},
   "outputs": [],
   "source": [
    "billboards = billboards[['Song','Performer','WeekID','Peak Position','Weeks on Chart']]\n",
    "feature_cols = ['Performer', 'Song',\n",
    "       'spotify_track_explicit', 'spotify_track_duration_ms',\n",
    "       'danceability', 'energy', 'key',\n",
    "       'loudness', 'mode', 'speechiness', 'acousticness',\n",
    "       'instrumentalness', 'liveness', 'valence', 'tempo',\n",
    "       'time_signature']\n",
    "billboards_features = billboards_features[feature_cols]"
   ]
  },
  {
   "cell_type": "code",
   "execution_count": 5,
   "metadata": {},
   "outputs": [],
   "source": [
    "song_names = []\n",
    "for song in billboards['Song']:\n",
    "    song_names.append(song)"
   ]
  },
  {
   "cell_type": "code",
   "execution_count": 6,
   "metadata": {},
   "outputs": [],
   "source": [
    "song_names_dict_features = dict(zip(billboards_features.index,song_names))\n",
    "billboards_features = billboards_features.rename(song_names_dict_features,axis='index')\n",
    "billboards_features = billboards_features.drop(['Song'],axis=1)"
   ]
  },
  {
   "cell_type": "code",
   "execution_count": 7,
   "metadata": {},
   "outputs": [],
   "source": [
    "song_names_dict = dict(zip(billboards.index,song_names))\n",
    "billboards= billboards.rename(song_names_dict,axis='index')\n",
    "billboards = billboards.drop(['Song'],axis=1)"
   ]
  },
  {
   "cell_type": "code",
   "execution_count": 8,
   "metadata": {},
   "outputs": [],
   "source": [
    "df_list = [billboards,billboards_features]\n",
    "billboard_top_100 = pd.concat(df_list,axis=1)"
   ]
  },
  {
   "cell_type": "code",
   "execution_count": 9,
   "metadata": {},
   "outputs": [],
   "source": [
    "billboard_top_100 = billboard_top_100.dropna()"
   ]
  },
  {
   "cell_type": "code",
   "execution_count": 10,
   "metadata": {},
   "outputs": [],
   "source": [
    "def explicit_convert(ex):\n",
    "    if ex:\n",
    "        return 1\n",
    "    else: \n",
    "        return 0\n",
    "billboard_top_100[\"explicit\"] = billboard_top_100[\"spotify_track_explicit\"].apply(explicit_convert)\n",
    "billboard_top_100 = billboard_top_100.drop([\"spotify_track_explicit\"],axis=1)"
   ]
  },
  {
   "cell_type": "code",
   "execution_count": 11,
   "metadata": {},
   "outputs": [],
   "source": [
    "billboard_top_100['WeekID'] = pd.to_datetime(billboard_top_100['WeekID'])"
   ]
  },
  {
   "cell_type": "code",
   "execution_count": 12,
   "metadata": {},
   "outputs": [],
   "source": [
    "billboard_top_100 = billboard_top_100.sort_values(['WeekID'],ascending=True)"
   ]
  },
  {
   "cell_type": "code",
   "execution_count": 13,
   "metadata": {},
   "outputs": [],
   "source": [
    "#our outcome will be peak_position*week_on_chart\n",
    "y = billboard_top_100['Peak Position'] * billboard_top_100['Weeks on Chart']\n",
    "#y = billboard_top_100['Peak Position']\n",
    "billboard_top_100_1 = billboard_top_100.drop(['Weeks on Chart','Peak Position'],axis=1)"
   ]
  },
  {
   "cell_type": "code",
   "execution_count": 14,
   "metadata": {},
   "outputs": [],
   "source": [
    "X = billboard_top_100_1.drop(['Performer','Performer','WeekID'],axis=1)"
   ]
  },
  {
   "cell_type": "code",
   "execution_count": 15,
   "metadata": {},
   "outputs": [
    {
     "data": {
      "text/plain": [
       "(19614, 13)"
      ]
     },
     "execution_count": 15,
     "metadata": {},
     "output_type": "execute_result"
    }
   ],
   "source": [
    "pca_tf = PCA(n_components='mle')\n",
    "features = pca_tf.fit_transform(X)\n",
    "features.shape"
   ]
  },
  {
   "cell_type": "code",
   "execution_count": 16,
   "metadata": {},
   "outputs": [],
   "source": [
    "X_train, X_test, y_train, y_test = train_test_split(features,y,test_size=0.2)"
   ]
  },
  {
   "cell_type": "code",
   "execution_count": 17,
   "metadata": {},
   "outputs": [
    {
     "data": {
      "image/png": "[encoded data removed]",
      "text/plain": [
       "<Figure size 432x288 with 1 Axes>"
      ]
     },
     "metadata": {
      "needs_background": "light"
     },
     "output_type": "display_data"
    }
   ],
   "source": [
    "kvals = range(1,25)\n",
    "train_score = []\n",
    "test_score = []\n",
    "\n",
    "for k in kvals:\n",
    "    model = KNeighborsRegressor(k)\n",
    "    model.fit(X_train, y_train)\n",
    "    train_score.append(model.score(X_train,y_train))\n",
    "    test_score.append(model.score(X_test, y_test))\n",
    "    \n",
    "plt.plot(kvals, train_score, 'r-s', label='Train')\n",
    "plt.plot(kvals, test_score, 'b-o', label='Test')\n",
    "plt.legend()\n",
    "plt.title('Accuracy of train/test scores vs. K values')\n",
    "plt.xlabel('K')\n",
    "plt.ylabel('Accuracy Score')\n",
    "plt.show()"
   ]
  },
  {
   "cell_type": "code",
   "execution_count": 18,
   "metadata": {},
   "outputs": [],
   "source": [
    "#sorting and training by year\n",
    "def week_to_year(date):\n",
    "    return date.year\n",
    "billboard_top_100[\"YearID\"] = billboard_top_100[\"WeekID\"].apply(week_to_year)\n",
    "billboard_top_100 = billboard_top_100.drop([\"WeekID\"],axis=1)"
   ]
  },
  {
   "cell_type": "code",
   "execution_count": 19,
   "metadata": {},
   "outputs": [
    {
     "data": {
      "text/html": [
       "<div>\n",
       "<style scoped>\n",
       "    .dataframe tbody tr th:only-of-type {\n",
       "        vertical-align: middle;\n",
       "    }\n",
       "\n",
       "    .dataframe tbody tr th {\n",
       "        vertical-align: top;\n",
       "    }\n",
       "\n",
       "    .dataframe thead th {\n",
       "        text-align: right;\n",
       "    }\n",
       "</style>\n",
       "<table border=\"1\" class=\"dataframe\">\n",
       "  <thead>\n",
       "    <tr style=\"text-align: right;\">\n",
       "      <th></th>\n",
       "      <th>Peak Position</th>\n",
       "      <th>Weeks on Chart</th>\n",
       "      <th>spotify_track_duration_ms</th>\n",
       "      <th>danceability</th>\n",
       "      <th>energy</th>\n",
       "      <th>key</th>\n",
       "      <th>loudness</th>\n",
       "      <th>mode</th>\n",
       "      <th>speechiness</th>\n",
       "      <th>acousticness</th>\n",
       "      <th>instrumentalness</th>\n",
       "      <th>liveness</th>\n",
       "      <th>valence</th>\n",
       "      <th>tempo</th>\n",
       "      <th>time_signature</th>\n",
       "      <th>explicit</th>\n",
       "      <th>YearID</th>\n",
       "    </tr>\n",
       "  </thead>\n",
       "  <tbody>\n",
       "    <tr>\n",
       "      <th>Op</th>\n",
       "      <td>69.0</td>\n",
       "      <td>1.0</td>\n",
       "      <td>226706.0</td>\n",
       "      <td>0.440</td>\n",
       "      <td>0.976</td>\n",
       "      <td>10.0</td>\n",
       "      <td>-3.170</td>\n",
       "      <td>1.0</td>\n",
       "      <td>0.1410</td>\n",
       "      <td>0.00177</td>\n",
       "      <td>0.000003</td>\n",
       "      <td>0.1600</td>\n",
       "      <td>0.412</td>\n",
       "      <td>150.005</td>\n",
       "      <td>4.0</td>\n",
       "      <td>0</td>\n",
       "      <td>1958</td>\n",
       "    </tr>\n",
       "    <tr>\n",
       "      <th>Got A Match?</th>\n",
       "      <td>85.0</td>\n",
       "      <td>1.0</td>\n",
       "      <td>222333.0</td>\n",
       "      <td>0.646</td>\n",
       "      <td>0.527</td>\n",
       "      <td>11.0</td>\n",
       "      <td>-7.356</td>\n",
       "      <td>1.0</td>\n",
       "      <td>0.0478</td>\n",
       "      <td>0.01680</td>\n",
       "      <td>0.000000</td>\n",
       "      <td>0.2040</td>\n",
       "      <td>0.287</td>\n",
       "      <td>68.501</td>\n",
       "      <td>4.0</td>\n",
       "      <td>0</td>\n",
       "      <td>1958</td>\n",
       "    </tr>\n",
       "    <tr>\n",
       "      <th>(It's Been A Long Time) Pretty Baby</th>\n",
       "      <td>46.0</td>\n",
       "      <td>1.0</td>\n",
       "      <td>141426.0</td>\n",
       "      <td>0.511</td>\n",
       "      <td>0.236</td>\n",
       "      <td>0.0</td>\n",
       "      <td>-14.496</td>\n",
       "      <td>1.0</td>\n",
       "      <td>0.0430</td>\n",
       "      <td>0.67000</td>\n",
       "      <td>0.000000</td>\n",
       "      <td>0.0953</td>\n",
       "      <td>0.196</td>\n",
       "      <td>141.222</td>\n",
       "      <td>4.0</td>\n",
       "      <td>0</td>\n",
       "      <td>1958</td>\n",
       "    </tr>\n",
       "    <tr>\n",
       "      <th>Little Serenade</th>\n",
       "      <td>98.0</td>\n",
       "      <td>1.0</td>\n",
       "      <td>230320.0</td>\n",
       "      <td>0.565</td>\n",
       "      <td>0.245</td>\n",
       "      <td>5.0</td>\n",
       "      <td>-9.132</td>\n",
       "      <td>1.0</td>\n",
       "      <td>0.0262</td>\n",
       "      <td>0.78100</td>\n",
       "      <td>0.000000</td>\n",
       "      <td>0.0998</td>\n",
       "      <td>0.307</td>\n",
       "      <td>75.055</td>\n",
       "      <td>4.0</td>\n",
       "      <td>0</td>\n",
       "      <td>1958</td>\n",
       "    </tr>\n",
       "    <tr>\n",
       "      <th>To Be Loved</th>\n",
       "      <td>86.0</td>\n",
       "      <td>1.0</td>\n",
       "      <td>191266.0</td>\n",
       "      <td>0.738</td>\n",
       "      <td>0.768</td>\n",
       "      <td>11.0</td>\n",
       "      <td>-7.045</td>\n",
       "      <td>0.0</td>\n",
       "      <td>0.0348</td>\n",
       "      <td>0.38100</td>\n",
       "      <td>0.145000</td>\n",
       "      <td>0.1000</td>\n",
       "      <td>0.603</td>\n",
       "      <td>120.013</td>\n",
       "      <td>4.0</td>\n",
       "      <td>0</td>\n",
       "      <td>1958</td>\n",
       "    </tr>\n",
       "    <tr>\n",
       "      <th>...</th>\n",
       "      <td>...</td>\n",
       "      <td>...</td>\n",
       "      <td>...</td>\n",
       "      <td>...</td>\n",
       "      <td>...</td>\n",
       "      <td>...</td>\n",
       "      <td>...</td>\n",
       "      <td>...</td>\n",
       "      <td>...</td>\n",
       "      <td>...</td>\n",
       "      <td>...</td>\n",
       "      <td>...</td>\n",
       "      <td>...</td>\n",
       "      <td>...</td>\n",
       "      <td>...</td>\n",
       "      <td>...</td>\n",
       "      <td>...</td>\n",
       "    </tr>\n",
       "    <tr>\n",
       "      <th>Start Wit Me</th>\n",
       "      <td>58.0</td>\n",
       "      <td>5.0</td>\n",
       "      <td>183800.0</td>\n",
       "      <td>0.617</td>\n",
       "      <td>0.488</td>\n",
       "      <td>7.0</td>\n",
       "      <td>-9.567</td>\n",
       "      <td>0.0</td>\n",
       "      <td>0.0350</td>\n",
       "      <td>0.26600</td>\n",
       "      <td>0.000000</td>\n",
       "      <td>0.1100</td>\n",
       "      <td>0.685</td>\n",
       "      <td>136.236</td>\n",
       "      <td>4.0</td>\n",
       "      <td>0</td>\n",
       "      <td>2019</td>\n",
       "    </tr>\n",
       "    <tr>\n",
       "      <th>Hot Girl Bummer</th>\n",
       "      <td>41.0</td>\n",
       "      <td>14.0</td>\n",
       "      <td>179613.0</td>\n",
       "      <td>0.665</td>\n",
       "      <td>0.498</td>\n",
       "      <td>5.0</td>\n",
       "      <td>-8.185</td>\n",
       "      <td>1.0</td>\n",
       "      <td>0.0831</td>\n",
       "      <td>0.22800</td>\n",
       "      <td>0.000000</td>\n",
       "      <td>0.0757</td>\n",
       "      <td>0.127</td>\n",
       "      <td>81.967</td>\n",
       "      <td>4.0</td>\n",
       "      <td>1</td>\n",
       "      <td>2019</td>\n",
       "    </tr>\n",
       "    <tr>\n",
       "      <th>Even Though I'm Leaving</th>\n",
       "      <td>11.0</td>\n",
       "      <td>34.0</td>\n",
       "      <td>272080.0</td>\n",
       "      <td>0.448</td>\n",
       "      <td>0.420</td>\n",
       "      <td>8.0</td>\n",
       "      <td>-9.948</td>\n",
       "      <td>1.0</td>\n",
       "      <td>0.0797</td>\n",
       "      <td>0.52600</td>\n",
       "      <td>0.000550</td>\n",
       "      <td>0.2230</td>\n",
       "      <td>0.325</td>\n",
       "      <td>183.337</td>\n",
       "      <td>3.0</td>\n",
       "      <td>0</td>\n",
       "      <td>2019</td>\n",
       "    </tr>\n",
       "    <tr>\n",
       "      <th>Juicy</th>\n",
       "      <td>47.0</td>\n",
       "      <td>8.0</td>\n",
       "      <td>191066.0</td>\n",
       "      <td>0.685</td>\n",
       "      <td>0.718</td>\n",
       "      <td>0.0</td>\n",
       "      <td>-7.724</td>\n",
       "      <td>1.0</td>\n",
       "      <td>0.0521</td>\n",
       "      <td>0.12200</td>\n",
       "      <td>0.000000</td>\n",
       "      <td>0.0556</td>\n",
       "      <td>0.958</td>\n",
       "      <td>131.463</td>\n",
       "      <td>4.0</td>\n",
       "      <td>0</td>\n",
       "      <td>2019</td>\n",
       "    </tr>\n",
       "    <tr>\n",
       "      <th>Heat</th>\n",
       "      <td>36.0</td>\n",
       "      <td>16.0</td>\n",
       "      <td>135066.0</td>\n",
       "      <td>0.572</td>\n",
       "      <td>0.342</td>\n",
       "      <td>7.0</td>\n",
       "      <td>-11.330</td>\n",
       "      <td>1.0</td>\n",
       "      <td>0.0432</td>\n",
       "      <td>0.65800</td>\n",
       "      <td>0.000000</td>\n",
       "      <td>0.0480</td>\n",
       "      <td>0.755</td>\n",
       "      <td>117.995</td>\n",
       "      <td>4.0</td>\n",
       "      <td>0</td>\n",
       "      <td>2019</td>\n",
       "    </tr>\n",
       "  </tbody>\n",
       "</table>\n",
       "<p>19614 rows × 17 columns</p>\n",
       "</div>"
      ],
      "text/plain": [
       "                                     Peak Position  Weeks on Chart  \\\n",
       "Op                                            69.0             1.0   \n",
       "Got A Match?                                  85.0             1.0   \n",
       "(It's Been A Long Time) Pretty Baby           46.0             1.0   \n",
       "Little Serenade                               98.0             1.0   \n",
       "To Be Loved                                   86.0             1.0   \n",
       "...                                            ...             ...   \n",
       "Start Wit Me                                  58.0             5.0   \n",
       "Hot Girl Bummer                               41.0            14.0   \n",
       "Even Though I'm Leaving                       11.0            34.0   \n",
       "Juicy                                         47.0             8.0   \n",
       "Heat                                          36.0            16.0   \n",
       "\n",
       "                                     spotify_track_duration_ms  danceability  \\\n",
       "Op                                                    226706.0         0.440   \n",
       "Got A Match?                                          222333.0         0.646   \n",
       "(It's Been A Long Time) Pretty Baby                   141426.0         0.511   \n",
       "Little Serenade                                       230320.0         0.565   \n",
       "To Be Loved                                           191266.0         0.738   \n",
       "...                                                        ...           ...   \n",
       "Start Wit Me                                          183800.0         0.617   \n",
       "Hot Girl Bummer                                       179613.0         0.665   \n",
       "Even Though I'm Leaving                               272080.0         0.448   \n",
       "Juicy                                                 191066.0         0.685   \n",
       "Heat                                                  135066.0         0.572   \n",
       "\n",
       "                                     energy   key  loudness  mode  \\\n",
       "Op                                    0.976  10.0    -3.170   1.0   \n",
       "Got A Match?                          0.527  11.0    -7.356   1.0   \n",
       "(It's Been A Long Time) Pretty Baby   0.236   0.0   -14.496   1.0   \n",
       "Little Serenade                       0.245   5.0    -9.132   1.0   \n",
       "To Be Loved                           0.768  11.0    -7.045   0.0   \n",
       "...                                     ...   ...       ...   ...   \n",
       "Start Wit Me                          0.488   7.0    -9.567   0.0   \n",
       "Hot Girl Bummer                       0.498   5.0    -8.185   1.0   \n",
       "Even Though I'm Leaving               0.420   8.0    -9.948   1.0   \n",
       "Juicy                                 0.718   0.0    -7.724   1.0   \n",
       "Heat                                  0.342   7.0   -11.330   1.0   \n",
       "\n",
       "                                     speechiness  acousticness  \\\n",
       "Op                                        0.1410       0.00177   \n",
       "Got A Match?                              0.0478       0.01680   \n",
       "(It's Been A Long Time) Pretty Baby       0.0430       0.67000   \n",
       "Little Serenade                           0.0262       0.78100   \n",
       "To Be Loved                               0.0348       0.38100   \n",
       "...                                          ...           ...   \n",
       "Start Wit Me                              0.0350       0.26600   \n",
       "Hot Girl Bummer                           0.0831       0.22800   \n",
       "Even Though I'm Leaving                   0.0797       0.52600   \n",
       "Juicy                                     0.0521       0.12200   \n",
       "Heat                                      0.0432       0.65800   \n",
       "\n",
       "                                     instrumentalness  liveness  valence  \\\n",
       "Op                                           0.000003    0.1600    0.412   \n",
       "Got A Match?                                 0.000000    0.2040    0.287   \n",
       "(It's Been A Long Time) Pretty Baby          0.000000    0.0953    0.196   \n",
       "Little Serenade                              0.000000    0.0998    0.307   \n",
       "To Be Loved                                  0.145000    0.1000    0.603   \n",
       "...                                               ...       ...      ...   \n",
       "Start Wit Me                                 0.000000    0.1100    0.685   \n",
       "Hot Girl Bummer                              0.000000    0.0757    0.127   \n",
       "Even Though I'm Leaving                      0.000550    0.2230    0.325   \n",
       "Juicy                                        0.000000    0.0556    0.958   \n",
       "Heat                                         0.000000    0.0480    0.755   \n",
       "\n",
       "                                       tempo  time_signature  explicit  YearID  \n",
       "Op                                   150.005             4.0         0    1958  \n",
       "Got A Match?                          68.501             4.0         0    1958  \n",
       "(It's Been A Long Time) Pretty Baby  141.222             4.0         0    1958  \n",
       "Little Serenade                       75.055             4.0         0    1958  \n",
       "To Be Loved                          120.013             4.0         0    1958  \n",
       "...                                      ...             ...       ...     ...  \n",
       "Start Wit Me                         136.236             4.0         0    2019  \n",
       "Hot Girl Bummer                       81.967             4.0         1    2019  \n",
       "Even Though I'm Leaving              183.337             3.0         0    2019  \n",
       "Juicy                                131.463             4.0         0    2019  \n",
       "Heat                                 117.995             4.0         0    2019  \n",
       "\n",
       "[19614 rows x 17 columns]"
      ]
     },
     "execution_count": 19,
     "metadata": {},
     "output_type": "execute_result"
    }
   ],
   "source": [
    "billboard_top_100 = billboard_top_100.drop(['Performer','Performer'],axis=1)\n",
    "billboard_top_100"
   ]
  },
  {
   "cell_type": "code",
   "execution_count": 42,
   "metadata": {},
   "outputs": [
    {
     "data": {
      "image/png": "[encoded data removed]",
      "text/plain": [
       "<Figure size 432x288 with 1 Axes>"
      ]
     },
     "metadata": {
      "needs_background": "light"
     },
     "output_type": "display_data"
    }
   ],
   "source": [
    "max_score = -100\n",
    "max_score_k = -1\n",
    "max_score_div = -1\n",
    "max_score_year= -1\n",
    "ranger = billboard_top_100['YearID'].max() - billboard_top_100['YearID'].min()\n",
    "kvals = range(1,20)\n",
    "for div in range(1,16):    \n",
    "    min_year = billboard_top_100['YearID'].min()\n",
    "    for i in range(ranger//div + 1):\n",
    "        max_year = min_year + div\n",
    "        if max_year > billboard_top_100['YearID'].max():\n",
    "            max_year = billboard_top_100['YearID'].max()\n",
    "        #print(min_year,end= \" \")\n",
    "        #print(max_year)\n",
    "        less_than = billboard_top_100[\"YearID\"] < max_year\n",
    "        greater_than = min_year <= billboard_top_100[\"YearID\"]\n",
    "        total = less_than == greater_than\n",
    "        data_set = billboard_top_100[total]\n",
    "        X = data_set.drop([\"YearID\",\"Peak Position\",\"Weeks on Chart\"],axis=1)\n",
    "        y = data_set['Peak Position']*data_set['Weeks on Chart']\n",
    "        if min_year == max_year:\n",
    "            continue\n",
    "        #PCA\n",
    "        pca = PCA(n_components='mle')\n",
    "        X = pca.fit_transform(X)\n",
    "        X_train, X_test, y_train, y_test = train_test_split(X,y,test_size=0.2)\n",
    "        #processing\n",
    "        train_score = []\n",
    "        test_score = []\n",
    "        max_score_set = False\n",
    "        for k in kvals:\n",
    "            model = KNeighborsRegressor(k)\n",
    "            model.fit(X_train, y_train)\n",
    "            train_score.append(model.score(X_train,y_train))\n",
    "            test_score.append(model.score(X_test, y_test))\n",
    "            temp = model.score(X_test, y_test)\n",
    "            if temp > max_score:\n",
    "                max_score = temp\n",
    "                max_score_k = k\n",
    "                max_score_div = div\n",
    "                max_score_year = min_year\n",
    "                max_score_set = True\n",
    "        if max_score_set:\n",
    "            plt.clf()\n",
    "            plt.title(\"{} predictions with divisions {}\".format(max_score_year,max_score_div))\n",
    "            plt.xlabel(\"K\")\n",
    "            plt.ylabel(\"Accuracy\")\n",
    "            plt.plot(kvals, train_score, 'r-s', label='Train')\n",
    "            plt.plot(kvals, test_score, 'b-o', label='Test')\n",
    "        min_year = max_year"
   ]
  },
  {
   "cell_type": "code",
   "execution_count": 44,
   "metadata": {},
   "outputs": [
    {
     "data": {
      "text/plain": [
       "6"
      ]
     },
     "execution_count": 44,
     "metadata": {},
     "output_type": "execute_result"
    }
   ],
   "source": [
    "max_score_k"
   ]
  },
  {
   "cell_type": "code",
   "execution_count": null,
   "metadata": {},
   "outputs": [],
   "source": []
  },
  {
   "cell_type": "code",
   "execution_count": null,
   "metadata": {},
   "outputs": [],
   "source": []
  },
  {
   "cell_type": "code",
   "execution_count": null,
   "metadata": {},
   "outputs": [],
   "source": []
  }
 ],
 "metadata": {
  "kernelspec": {
   "display_name": "Python 3",
   "language": "python",
   "name": "python3"
  },
  "language_info": {
   "codemirror_mode": {
    "name": "ipython",
    "version": 3
   },
   "file_extension": ".py",
   "mimetype": "text/x-python",
   "name": "python",
   "nbconvert_exporter": "python",
   "pygments_lexer": "ipython3",
   "version": "3.8.3"
  }
 },
 "nbformat": 4,
 "nbformat_minor": 4
}
