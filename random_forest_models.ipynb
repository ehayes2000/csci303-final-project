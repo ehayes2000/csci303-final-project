{
 "cells": [
  {
   "cell_type": "code",
   "execution_count": 3,
   "metadata": {},
   "outputs": [],
   "source": [
    "import pandas as pd\n",
    "import pickle"
   ]
  },
  {
   "cell_type": "code",
   "execution_count": 5,
   "metadata": {},
   "outputs": [],
   "source": [
    "features = pd.read_csv('features.csv')"
   ]
  },
  {
   "cell_type": "code",
   "execution_count": 8,
   "metadata": {},
   "outputs": [],
   "source": [
    "targets = features['Peak Position']\n",
    "del features['Peak Position']\n",
    "del features['Unnamed: 0']"
   ]
  },
  {
   "cell_type": "code",
   "execution_count": 9,
   "metadata": {},
   "outputs": [],
   "source": [
    "from sklearn.model_selection import train_test_split\n",
    "X_train, X_test, y_train, y_test = train_test_split(features, targets)"
   ]
  },
  {
   "cell_type": "code",
   "execution_count": 14,
   "metadata": {},
   "outputs": [
    {
     "name": "stdout",
     "output_type": "stream",
     "text": [
      "Enter number of threads to train with: 12\n"
     ]
    }
   ],
   "source": [
    "n_jobs = int(input('Enter number of threads to train with: '))"
   ]
  },
  {
   "cell_type": "code",
   "execution_count": 18,
   "metadata": {},
   "outputs": [
    {
     "name": "stdout",
     "output_type": "stream",
     "text": [
      "Fitting 5 folds for each of 48 candidates, totalling 240 fits\n"
     ]
    },
    {
     "name": "stderr",
     "output_type": "stream",
     "text": [
      "[Parallel(n_jobs=12)]: Using backend LokyBackend with 12 concurrent workers.\n",
      "[Parallel(n_jobs=12)]: Done   1 tasks      | elapsed:    6.3s\n",
      "[Parallel(n_jobs=12)]: Done   8 tasks      | elapsed:   17.4s\n",
      "[Parallel(n_jobs=12)]: Done  17 tasks      | elapsed:   50.9s\n",
      "[Parallel(n_jobs=12)]: Done  26 tasks      | elapsed:  1.0min\n",
      "[Parallel(n_jobs=12)]: Done  37 tasks      | elapsed:  1.5min\n",
      "[Parallel(n_jobs=12)]: Done  48 tasks      | elapsed:  2.1min\n",
      "[Parallel(n_jobs=12)]: Done  61 tasks      | elapsed:  2.8min\n",
      "[Parallel(n_jobs=12)]: Done  74 tasks      | elapsed:  3.5min\n",
      "[Parallel(n_jobs=12)]: Done  89 tasks      | elapsed:  4.8min\n",
      "[Parallel(n_jobs=12)]: Done 104 tasks      | elapsed:  6.1min\n",
      "[Parallel(n_jobs=12)]: Done 121 tasks      | elapsed:  8.0min\n",
      "[Parallel(n_jobs=12)]: Done 138 tasks      | elapsed: 10.0min\n",
      "[Parallel(n_jobs=12)]: Done 157 tasks      | elapsed: 11.7min\n",
      "[Parallel(n_jobs=12)]: Done 176 tasks      | elapsed: 13.6min\n",
      "[Parallel(n_jobs=12)]: Done 197 tasks      | elapsed: 16.8min\n",
      "/home/eric/.local/lib/python3.8/site-packages/joblib/externals/loky/process_executor.py:688: UserWarning: A worker stopped while some jobs were given to the executor. This can be caused by a too short worker timeout or by a memory leak.\n",
      "  warnings.warn(\n",
      "[Parallel(n_jobs=12)]: Done 240 out of 240 | elapsed: 22.1min finished\n"
     ]
    },
    {
     "data": {
      "text/plain": [
       "GridSearchCV(estimator=RandomForestRegressor(), n_jobs=12,\n",
       "             param_grid={'max_depth': [5, 10, 15, 20],\n",
       "                         'min_samples_split': [2, 4, 6, 8],\n",
       "                         'n_estimators': [100, 500, 1000]},\n",
       "             verbose=10)"
      ]
     },
     "execution_count": 18,
     "metadata": {},
     "output_type": "execute_result"
    }
   ],
   "source": [
    "# from sklearn.model_selection import GridSearchCV\n",
    "# from sklearn.ensemble import RandomForestRegressor\n",
    "\n",
    "# params = {'n_estimators': [100, 500, 1000],\n",
    "#           'max_depth': [5, 10, 15, 20],\n",
    "#           'min_samples_split': [2, 4, 6, 8]}\n",
    "\n",
    "# model = GridSearchCV(RandomForestRegressor(), param_grid=params, verbose=10, n_jobs=n_jobs)\n",
    "# model.fit(X_train, y_train)\n"
   ]
  },
  {
   "cell_type": "code",
   "execution_count": 28,
   "metadata": {},
   "outputs": [
    {
     "name": "stdout",
     "output_type": "stream",
     "text": [
      "{'max_depth': 10, 'min_samples_split': 8, 'n_estimators': 500}\n"
     ]
    },
    {
     "data": {
      "text/plain": [
       "0.7474367268668173"
      ]
     },
     "execution_count": 28,
     "metadata": {},
     "output_type": "execute_result"
    }
   ],
   "source": [
    "model = pickle.load(open('model_file.p', 'rb'))\n",
    "print(model.best_params_)\n",
    "model.score(X_test, y_test)"
   ]
  },
  {
   "cell_type": "code",
   "execution_count": 22,
   "metadata": {},
   "outputs": [
    {
     "data": {
      "text/plain": [
       "0.7476121547946117"
      ]
     },
     "execution_count": 22,
     "metadata": {},
     "output_type": "execute_result"
    }
   ],
   "source": [
    "from sklearn.metrics import explained_variance_score\n",
    "y_pred = model.predict(X_test)\n",
    "explained_variance_score(y_test, y_pred)"
   ]
  },
  {
   "cell_type": "code",
   "execution_count": 25,
   "metadata": {},
   "outputs": [],
   "source": [
    "# import pickle\n",
    "# pickle.dump(model, open('model_file.p', 'wb'))"
   ]
  },
  {
   "cell_type": "code",
   "execution_count": null,
   "metadata": {},
   "outputs": [],
   "source": []
  }
 ],
 "metadata": {
  "kernelspec": {
   "display_name": "Python 3",
   "language": "python",
   "name": "python3"
  },
  "language_info": {
   "codemirror_mode": {
    "name": "ipython",
    "version": 3
   },
   "file_extension": ".py",
   "mimetype": "text/x-python",
   "name": "python",
   "nbconvert_exporter": "python",
   "pygments_lexer": "ipython3",
   "version": "3.8.3"
  }
 },
 "nbformat": 4,
 "nbformat_minor": 4
}
